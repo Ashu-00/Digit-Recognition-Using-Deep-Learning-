{
  "nbformat": 4,
  "nbformat_minor": 0,
  "metadata": {
    "colab": {
      "provenance": []
    },
    "kernelspec": {
      "name": "python3",
      "display_name": "Python 3"
    },
    "language_info": {
      "name": "python"
    }
  },
  "cells": [
    {
      "cell_type": "code",
      "execution_count": 13,
      "metadata": {
        "id": "GDgHGlXiOS5f"
      },
      "outputs": [],
      "source": [
        "from torchvision import datasets\n",
        "from torchvision.transforms import ToTensor"
      ]
    },
    {
      "cell_type": "code",
      "source": [
        "train_data=datasets.MNIST(\n",
        "    root='data',\n",
        "    train=True,\n",
        "    transform=ToTensor(),\n",
        "    download=True\n",
        ")"
      ],
      "metadata": {
        "id": "SH4WcJ4WPEsP"
      },
      "execution_count": 14,
      "outputs": []
    },
    {
      "cell_type": "code",
      "source": [
        "test_data=datasets.MNIST(\n",
        "    root='data',\n",
        "    train=0,\n",
        "    transform=ToTensor(),\n",
        "    download=True\n",
        ")"
      ],
      "metadata": {
        "id": "lS01Af8NP2Uf"
      },
      "execution_count": 15,
      "outputs": []
    },
    {
      "cell_type": "code",
      "source": [
        "train_data"
      ],
      "metadata": {
        "colab": {
          "base_uri": "https://localhost:8080/"
        },
        "id": "X_nJgREVQK8K",
        "outputId": "95be95c0-6243-476e-e1ad-9c96cc686f9d"
      },
      "execution_count": 17,
      "outputs": [
        {
          "output_type": "execute_result",
          "data": {
            "text/plain": [
              "Dataset MNIST\n",
              "    Number of datapoints: 60000\n",
              "    Root location: data\n",
              "    Split: Train\n",
              "    StandardTransform\n",
              "Transform: ToTensor()"
            ]
          },
          "metadata": {},
          "execution_count": 17
        }
      ]
    },
    {
      "cell_type": "code",
      "source": [
        "from torch.utils.data import DataLoader\n",
        "\n",
        "loaders={\n",
        "    'train': DataLoader(train_data,\n",
        "                        batch_size=100,\n",
        "                        shuffle=True,\n",
        "                        num_workers=1),\n",
        "    'test': DataLoader(test_data,\n",
        "                        batch_size=100,\n",
        "                        shuffle=True,\n",
        "                        num_workers=1),\n",
        "}"
      ],
      "metadata": {
        "id": "yaazfoGRQ4wU"
      },
      "execution_count": 18,
      "outputs": []
    },
    {
      "cell_type": "code",
      "source": [
        "import torch.nn as nn\n",
        "import torch.nn.functional as F\n",
        "import torch.optim as optim\n"
      ],
      "metadata": {
        "id": "oOGu_DwaSbvO"
      },
      "execution_count": 19,
      "outputs": []
    },
    {
      "cell_type": "code",
      "source": [
        "class CNN(nn.Module):\n",
        "  def __init__(self):\n",
        "    super(CNN,self).__init__()\n",
        "\n",
        "    self.conv1=nn.Conv2d(1,10,kernel_size=5)\n",
        "    self.conv2=nn.Conv2d(10,20,kernel_size=5)\n",
        "    self.fc1=nn.Linear(320,50)\n",
        "    self.fc2=nn.Linear(50,10)\n",
        "\n",
        "  def forward(self,x):\n",
        "    x= F.relu(F.max_pool2d(self.conv1(x),2))\n",
        "    x= F.relu(F.max_pool2d(self.conv2(x),2))\n",
        "    x= x.view(-1,320)\n",
        "    x= F.relu(self.fc1(x))\n",
        "    x= self.fc2(x)\n",
        "\n",
        "    return F.softmax(x)\n"
      ],
      "metadata": {
        "id": "wso2t3jcTB_U"
      },
      "execution_count": 20,
      "outputs": []
    },
    {
      "cell_type": "code",
      "source": [
        "import torch\n",
        "import copy\n",
        "\n",
        "device=torch.device(\"cuda\" if torch.cuda.is_available() else \"cpu\")\n",
        "\n",
        "model=CNN().to(device)\n",
        "\n",
        "optimizer=optim.Adam(model.parameters(),lr=0.001)\n",
        "\n",
        "loss_fn=nn.CrossEntropyLoss()\n",
        "\n",
        "accarr=[]\n",
        "def train(ep):\n",
        "  model.train()\n",
        "\n",
        "  for bid,(im, lab) in enumerate(loaders['train']):\n",
        "    im=im.to(device)\n",
        "    lab=lab.to(device)\n",
        "    optimizer.zero_grad()\n",
        "\n",
        "    out=model(im)\n",
        "    loss=loss_fn(out,lab)\n",
        "    loss.backward()\n",
        "    optimizer.step()\n",
        "    accuracy=(out.argmax(dim=1)==lab).float().mean()\n",
        "    #print(f\"{ep}-{bid}-{accuracy}\")\n",
        "\n",
        "    accarr.append(accuracy)\n",
        "  return accuracy\n",
        "\n"
      ],
      "metadata": {
        "id": "zj-xnDtdtGMR"
      },
      "execution_count": 24,
      "outputs": []
    },
    {
      "cell_type": "code",
      "source": [
        "for i in range(1,11):\n",
        "  acc=train(i)\n",
        "  print(f\"{i}-{acc}\")"
      ],
      "metadata": {
        "id": "82YIL7ys77lQ",
        "colab": {
          "base_uri": "https://localhost:8080/"
        },
        "outputId": "76b95b78-2173-40e1-c865-f4dfd515bf97"
      },
      "execution_count": 25,
      "outputs": [
        {
          "output_type": "stream",
          "name": "stderr",
          "text": [
            "<ipython-input-20-7e9a46849242>:17: UserWarning: Implicit dimension choice for softmax has been deprecated. Change the call to include dim=X as an argument.\n",
            "  return F.softmax(x)\n"
          ]
        },
        {
          "output_type": "stream",
          "name": "stdout",
          "text": [
            "1-0.9300000071525574\n",
            "2-0.9700000286102295\n",
            "3-0.9800000190734863\n",
            "4-0.9800000190734863\n",
            "5-0.9900000095367432\n",
            "6-0.9800000190734863\n",
            "7-0.9800000190734863\n",
            "8-0.9800000190734863\n",
            "9-0.9900000095367432\n",
            "10-0.9900000095367432\n"
          ]
        }
      ]
    },
    {
      "cell_type": "code",
      "source": [
        "def test():\n",
        "  model.eval()\n",
        "\n",
        "  acc=[]\n",
        "  loss=[]\n",
        "  with torch.no_grad():\n",
        "    for im,lab in loaders['test']:\n",
        "      out=model(im)\n",
        "      loss.append(loss[-1]+loss_fn(out,lab).item())\n",
        "      acc.append((out.argmax(dim=1)==lab).float().mean())\n",
        "  return loss,acc\n"
      ],
      "metadata": {
        "id": "BSsLaNwmtciB"
      },
      "execution_count": 28,
      "outputs": []
    },
    {
      "cell_type": "code",
      "source": [
        "loss,acc=test()\n",
        "\n",
        "import matplotlib.pyplot as plt\n",
        "#plt.plot(loss)\n",
        "plt.plot(acc)"
      ],
      "metadata": {
        "colab": {
          "base_uri": "https://localhost:8080/",
          "height": 577
        },
        "id": "CNDhWkPWu5Fw",
        "outputId": "dcef00cf-ccc6-4743-b0db-938934b1818c"
      },
      "execution_count": 30,
      "outputs": [
        {
          "output_type": "stream",
          "name": "stderr",
          "text": [
            "/usr/lib/python3.10/multiprocessing/popen_fork.py:66: RuntimeWarning: os.fork() was called. os.fork() is incompatible with multithreaded code, and JAX is multithreaded, so this will likely lead to a deadlock.\n",
            "  self.pid = os.fork()\n",
            "<ipython-input-20-7e9a46849242>:17: UserWarning: Implicit dimension choice for softmax has been deprecated. Change the call to include dim=X as an argument.\n",
            "  return F.softmax(x)\n",
            "/usr/lib/python3.10/multiprocessing/popen_fork.py:66: RuntimeWarning: os.fork() was called. os.fork() is incompatible with multithreaded code, and JAX is multithreaded, so this will likely lead to a deadlock.\n",
            "  self.pid = os.fork()\n"
          ]
        },
        {
          "output_type": "execute_result",
          "data": {
            "text/plain": [
              "[<matplotlib.lines.Line2D at 0x7f7953a6ba00>]"
            ]
          },
          "metadata": {},
          "execution_count": 30
        },
        {
          "output_type": "display_data",
          "data": {
            "text/plain": [
              "<Figure size 640x480 with 1 Axes>"
            ],
            "image/png": "[encoded data removed]"
          },
          "metadata": {}
        }
      ]
    }
  ]
}